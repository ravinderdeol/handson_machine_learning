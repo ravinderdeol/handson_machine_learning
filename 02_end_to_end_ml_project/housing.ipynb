{
 "cells": [
  {
   "cell_type": "code",
   "execution_count": null,
   "metadata": {},
   "outputs": [],
   "source": [
    "# import the required modules\n",
    "import os\n",
    "import ssl\n",
    "import tarfile\n",
    "import pandas as pd\n",
    "import urllib.request"
   ]
  },
  {
   "cell_type": "code",
   "execution_count": null,
   "metadata": {},
   "outputs": [],
   "source": [
    "# set the root url for downloading the data\n",
    "download_root = \"https://raw.githubusercontent.com/ageron/handson-ml2/master\"\n",
    "\n",
    "# set the path for saving the housing data\n",
    "housing_path = os.path.join(\"datasets\")\n",
    "\n",
    "# set the url for downloading the housing data\n",
    "housing_url = download_root + \"/datasets/housing/housing.tgz\"\n",
    "\n",
    "# function to fetch the housing data\n",
    "def fetch_housing_data(housing_url = housing_url, housing_path = housing_path):\n",
    "\n",
    "    # create the housing directory if it does not exist\n",
    "    os.makedirs(housing_path, exist_ok = True)\n",
    "\n",
    "    # set the path for saving the housing data\n",
    "    tgz_path = os.path.join(housing_path, \"housing.tgz\")\n",
    "\n",
    "    # get the housing data from the url and save it\n",
    "    urllib.request.urlretrieve(housing_url, tgz_path)\n",
    "\n",
    "    # open the housing data\n",
    "    housing_tgz = tarfile.open(tgz_path)\n",
    "\n",
    "    # extract the housing data\n",
    "    housing_tgz.extractall(path = housing_path)\n",
    "\n",
    "    # close the housing data\n",
    "    housing_tgz.close()\n",
    "\n",
    "# disable ssl certificate verification\n",
    "ssl._create_default_https_context = ssl._create_unverified_context\n",
    "\n",
    "# call the function to fetch the housing data\n",
    "fetch_housing_data()"
   ]
  },
  {
   "cell_type": "code",
   "execution_count": null,
   "metadata": {},
   "outputs": [],
   "source": [
    "# function to load the housing data into a pandas dataframe\n",
    "def load_housing_data(housing_path = housing_path):\n",
    "\n",
    "    # set the path for loading the csv file for the housing data\n",
    "    csv_path = os.path.join(housing_path, \"housing.csv\")\n",
    "\n",
    "    # read the csv file into a pandas dataframe and return it\n",
    "    return pd.read_csv(csv_path)\n",
    "\n",
    "# call the function to load the housing data into the housing dataframe\n",
    "housing = load_housing_data()"
   ]
  },
  {
   "cell_type": "code",
   "execution_count": null,
   "metadata": {},
   "outputs": [],
   "source": [
    "# display the first few rows of the housing dataframe\n",
    "housing.head()"
   ]
  }
 ],
 "metadata": {
  "language_info": {
   "name": "python"
  },
  "orig_nbformat": 4
 },
 "nbformat": 4,
 "nbformat_minor": 2
}
